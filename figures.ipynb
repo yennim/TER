{
 "cells": [
  {
   "cell_type": "markdown",
   "metadata": {},
   "source": [
    "# Temporal Difference Model"
   ]
  },
  {
   "cell_type": "markdown",
   "metadata": {},
   "source": [
    "### Imports"
   ]
  },
  {
   "cell_type": "code",
   "execution_count": null,
   "metadata": {},
   "outputs": [],
   "source": [
    "import numpy as np\n",
    "from matplotlib import pyplot as plt\n",
    "\n",
    "import model\n",
    "import graphs\n",
    "\n",
    "#%matplotlib notebook"
   ]
  },
  {
   "cell_type": "markdown",
   "metadata": {},
   "source": [
    "### Parameters"
   ]
  },
  {
   "cell_type": "code",
   "execution_count": null,
   "metadata": {},
   "outputs": [],
   "source": [
    "T = 5\n",
    "N = 23   # time steps occurrence\n",
    "γ = 0.98 # discount factor"
   ]
  },
  {
   "cell_type": "markdown",
   "metadata": {},
   "source": [
    "### Figure 4"
   ]
  },
  {
   "cell_type": "code",
   "execution_count": null,
   "metadata": {},
   "outputs": [],
   "source": [
    "td_0 = model.TDModel(λ=0.0, α=0.05, γ=γ, N=N, T=T, stimuli=(15, 5))\n",
    "for _ in range(401):\n",
    "    td_0.trial()\n",
    "graphs.δ_3d(td_0, filename='Figure4B_3d')"
   ]
  },
  {
   "cell_type": "code",
   "execution_count": null,
   "metadata": {},
   "outputs": [],
   "source": [
    "graphs.δ_2d(td_0, 320, filename='Figure4B_late')"
   ]
  },
  {
   "cell_type": "code",
   "execution_count": null,
   "metadata": {},
   "outputs": [],
   "source": [
    "graphs.δ_2d(td_0, 80, filename='Figure4B_early')"
   ]
  },
  {
   "cell_type": "code",
   "execution_count": null,
   "metadata": {},
   "outputs": [],
   "source": [
    "graphs.δ_2d(td_0, 0, filename='Figure4B_random')"
   ]
  },
  {
   "cell_type": "code",
   "execution_count": null,
   "metadata": {},
   "outputs": [],
   "source": [
    "td_λ = model.TDModel(λ=0.9, α=0.005, γ=γ, N=N, T=T)\n",
    "for _ in range(501):\n",
    "    td_λ.trial()\n",
    "graphs.δ_3d(td_λ, filename='Figure4C_3d')"
   ]
  },
  {
   "cell_type": "code",
   "execution_count": null,
   "metadata": {},
   "outputs": [],
   "source": [
    "graphs.δ_2d(td_λ, 300, filename='Figure4C_late')"
   ]
  },
  {
   "cell_type": "code",
   "execution_count": null,
   "metadata": {},
   "outputs": [],
   "source": [
    "graphs.δ_2d(td_λ, 100, filename='Figure4C_early')"
   ]
  },
  {
   "cell_type": "code",
   "execution_count": null,
   "metadata": {},
   "outputs": [],
   "source": [
    "graphs.δ_2d(td_λ, 0, filename='Figure4C_random')"
   ]
  },
  {
   "cell_type": "markdown",
   "metadata": {},
   "source": [
    "### Figure 5"
   ]
  },
  {
   "cell_type": "code",
   "execution_count": null,
   "metadata": {},
   "outputs": [],
   "source": [
    "λs = [1.0, 0.9, 0.6, 0.3, 0.0]\n",
    "αs = [0.005, 0.05, 0.5, 1]\n",
    "n_trials_map = {0.005:800, 0.05:400, 0.5:40, 1:40}\n",
    "\n",
    "fig = plt.figure(figsize=(25, 16))\n",
    "\n",
    "counter = 0\n",
    "for λ in λs:\n",
    "    for α in αs:\n",
    "        counter += 1\n",
    "        tdmodel = model.TDModel(λ=λ, α=α, γ=γ, N=N, T=T)\n",
    "        for t in range(n_trials_map[α]):\n",
    "            tdmodel.trial(stim=(True, True))\n",
    "        ax = plt.subplot(len(λs), len(αs), counter, projection='3d')\n",
    "        graphs.δ_3d(tdmodel, ax=ax, show=False)\n",
    "        \n",
    "plt.tight_layout()\n",
    "plt.savefig('figures/Figure5.pdf')\n",
    "plt.show()"
   ]
  },
  {
   "cell_type": "markdown",
   "metadata": {},
   "source": [
    "### Figure 6"
   ]
  },
  {
   "cell_type": "code",
   "execution_count": null,
   "metadata": {},
   "outputs": [],
   "source": [
    "td_λ = model.TDModel(λ=0.9, α=0.005, γ=γ, N=N, T=T)\n",
    "for t in range(1, 402):\n",
    "    if t in (101, 401):           # for 101th and 401th trial,\n",
    "        td_λ.trial([True, False]) # ommit second stimuli\n",
    "    else:\n",
    "        td_λ.trial()\n",
    "          \n",
    "graphs.δ_2d_dashed(td_λ, 100, legend='Cued reward', dashed_t=101, dashed_legend='Omit cue 2', \n",
    "                   filename='Figure6A_early')"
   ]
  },
  {
   "cell_type": "markdown",
   "metadata": {},
   "source": [
    " "
   ]
  },
  {
   "cell_type": "code",
   "execution_count": null,
   "metadata": {},
   "outputs": [],
   "source": [
    "graphs.δ_2d_dashed(td_λ, 400, dashed_t=401, filename='Figure6A_late')"
   ]
  },
  {
   "cell_type": "markdown",
   "metadata": {
    "collapsed": true
   },
   "source": [
    " "
   ]
  }
 ],
 "metadata": {
  "kernelspec": {
   "display_name": "Python 3",
   "language": "python",
   "name": "python3"
  },
  "language_info": {
   "codemirror_mode": {
    "name": "ipython",
    "version": 3
   },
   "file_extension": ".py",
   "mimetype": "text/x-python",
   "name": "python",
   "nbconvert_exporter": "python",
   "pygments_lexer": "ipython3",
   "version": "3.6.1"
  }
 },
 "nbformat": 4,
 "nbformat_minor": 2
}
